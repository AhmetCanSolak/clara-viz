{
 "cells": [
  {
   "cell_type": "markdown",
   "metadata": {},
   "source": [
    "# Clara Viz Interactive Widget\n",
    "This notebook shows how to load a volume dataset using the DataDefinition class append method. The append method uses ITK to load the dataset from disk.\n",
    "The rendering settings are loaded from a JSON file.\n",
    "Then the Clara Viz widget is used to display an interactive view of the data."
   ]
  },
  {
   "cell_type": "code",
   "execution_count": null,
   "metadata": {},
   "outputs": [],
   "source": [
    "# The DataDefinition class is using ITK to load the data files, make sure ITK is available\n",
    "!python3 -c \"import itk\" || python3 -m pip install itk\n",
    "\n",
    "from clara.viz.core import DataDefinition\n",
    "import os\n",
    "from urllib.request import urlretrieve\n",
    "\n",
    "import json\n",
    "\n",
    "# Load the volumes (data property of S. Roettger, VIS, University of Stuttgart)\n",
    "data_filename = 'bonsai_256x256x256_uint8.raw'\n",
    "if not os.path.exists('data/bonsai/' + data_filename):\n",
    "    print('Downloading {}'.format(data_filename))\n",
    "    urlretrieve('http://cdn.klacansky.com/open-scivis-datasets/bonsai/' + data_filename, 'data/bonsai/' + data_filename)\n",
    "\n",
    "header_filename = 'bonsai.nhdr'\n",
    "if not os.path.exists('data/bonsai/' + header_filename):\n",
    "    url = 'https://klacansky.com/open-scivis-datasets/metadata/bonsai.nhdr'\n",
    "    print('Downloading {}'.format(header_filename))\n",
    "    urlretrieve('https://klacansky.com/open-scivis-datasets/metadata/' + header_filename, 'data/bonsai/' + header_filename)\n",
    "\n",
    "# define the render settings\n",
    "with open('data/bonsai/settings.json') as f:\n",
    "  settings = json.load(f)\n",
    "\n",
    "# build the data definition\n",
    "data_definition = DataDefinition()\n",
    "data_definition.append('data/bonsai/' + header_filename, 'DXYZ')\n",
    "\n",
    "print('Density volume {}x{}x{}'.format(data_definition.arrays[0].array.shape[0], data_definition.arrays[0].array.shape[1], data_definition.arrays[0].array.shape[2]))\n",
    "\n",
    "data_definition.settings = settings"
   ]
  },
  {
   "cell_type": "markdown",
   "metadata": {},
   "source": [
    "## Create a widget and select the data definition, then display the widget"
   ]
  },
  {
   "cell_type": "code",
   "execution_count": null,
   "metadata": {},
   "outputs": [],
   "source": [
    "from clara.viz.widgets import Widget\n",
    "\n",
    "widget = Widget()\n",
    "widget.select_data_definition(data_definition)\n",
    "display(widget)"
   ]
  },
  {
   "cell_type": "markdown",
   "metadata": {},
   "source": [
    "## Change render settings\n",
    "Interact from ipywidgets offers us a simple way to interactively control values with a callback function. In this case change the transfer functions (the mapping from the density of the source to the opacity of the visualization).\n",
    "All render settings are exposed by the `settings` property of the widget. Settings are applied by calling the `set_settings` method."
   ]
  },
  {
   "cell_type": "code",
   "execution_count": null,
   "metadata": {
    "scrolled": true
   },
   "outputs": [],
   "source": [
    "from ipywidgets import interact, fixed, FloatSlider\n",
    "\n",
    "def set_range_min(index, range_min, range_max):\n",
    "    if (range_max <= range_min):\n",
    "        range_max = range_min + 0.01\n",
    "    widget.settings['TransferFunction']['components'][index]['range']['min'] = range_min\n",
    "    widget.settings['TransferFunction']['components'][index]['range']['max'] = range_max\n",
    "    widget.set_settings()\n",
    "\n",
    "for index in range(len(widget.settings['TransferFunction']['components'])):\n",
    "    interact(set_range_min, index=fixed(index), range_min=FloatSlider(min=0.0, max=0.99, step=0.01, value=widget.settings['TransferFunction']['components'][index]['range']['min']),\n",
    "            range_max=FloatSlider(min=0.01, max=1.0, step=0.01, value=widget.settings['TransferFunction']['components'][index]['range']['max']))"
   ]
  }
 ],
 "metadata": {
  "interpreter": {
   "hash": "916dbcbb3f70747c44a77c7bcd40155683ae19c65e1c03b4aa3499c5328201f1"
  },
  "kernelspec": {
   "display_name": "Python 3 (ipykernel)",
   "language": "python",
   "name": "python3"
  },
  "language_info": {
   "codemirror_mode": {
    "name": "ipython",
    "version": 3
   },
   "file_extension": ".py",
   "mimetype": "text/x-python",
   "name": "python",
   "nbconvert_exporter": "python",
   "pygments_lexer": "ipython3",
   "version": "3.8.10"
  }
 },
 "nbformat": 4,
 "nbformat_minor": 4
}
