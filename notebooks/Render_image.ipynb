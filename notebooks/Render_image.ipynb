{
 "cells": [
  {
   "cell_type": "markdown",
   "metadata": {},
   "source": [
    "# Clara Viz Render Image\n",
    "This notebook shows how to load an a RAW volume, render it to a JPEG and display it."
   ]
  },
  {
   "cell_type": "code",
   "execution_count": null,
   "metadata": {},
   "outputs": [],
   "source": [
    "import numpy as np\n",
    "import os\n",
    "from urllib.request import urlretrieve\n",
    "\n",
    "# Load the volumes (data property of S. Roettger, VIS, University of Stuttgart)\n",
    "destination_dir = 'data/pancreas/'\n",
    "data_filename = 'pancreas_240x512x512_int16.raw'\n",
    "if not os.path.exists(destination_dir):\n",
    "    os.mkdir(destination_dir)\n",
    "if not os.path.exists(data_filename):\n",
    "    url = 'http://cdn.klacansky.com/open-scivis-datasets/pancreas/' + data_filename\n",
    "    print('Downloading {}'.format(data_filename))\n",
    "    urlretrieve(url, destination_dir + data_filename)\n",
    "    \n",
    "print(\"Loading \" + data_filename)\n",
    "input = np.fromfile(destination_dir + data_filename, dtype=np.int16)\n",
    "input = input.reshape((512, 512, 240))"
   ]
  },
  {
   "cell_type": "markdown",
   "metadata": {},
   "source": [
    "## Create the renderer and render to JPEG"
   ]
  },
  {
   "cell_type": "code",
   "execution_count": null,
   "metadata": {},
   "outputs": [],
   "source": [
    "import clara.viz.core\n",
    "\n",
    "renderer = clara.viz.core.Renderer(density=input, view_mode=clara.viz.core.ViewMode.SLICE)\n",
    "jpeg_data = renderer.render_image(1024, 768, image_type=clara.viz.core.ImageType.JPEG)"
   ]
  },
  {
   "cell_type": "markdown",
   "metadata": {},
   "source": [
    "## Display the JPEG image"
   ]
  },
  {
   "cell_type": "code",
   "execution_count": null,
   "metadata": {},
   "outputs": [],
   "source": [
    "import IPython\n",
    "display(IPython.display.Image(jpeg_data))"
   ]
  },
  {
   "cell_type": "markdown",
   "metadata": {},
   "source": [
    "## Switch the camera to front and render again"
   ]
  },
  {
   "cell_type": "code",
   "execution_count": null,
   "metadata": {},
   "outputs": [],
   "source": [
    "settings = renderer.get_settings()\n",
    "settings['Views'][0]['cameraName'] = 'SliceFront'\n",
    "renderer.set_settings(settings)\n",
    "display(IPython.display.Image(renderer.render_image(1024, 768, image_type=clara.viz.core.ImageType.JPEG)))"
   ]
  }
 ],
 "metadata": {
  "interpreter": {
   "hash": "916dbcbb3f70747c44a77c7bcd40155683ae19c65e1c03b4aa3499c5328201f1"
  },
  "kernelspec": {
   "display_name": "Python 3 (ipykernel)",
   "language": "python",
   "name": "python3"
  },
  "language_info": {
   "codemirror_mode": {
    "name": "ipython",
    "version": 3
   },
   "file_extension": ".py",
   "mimetype": "text/x-python",
   "name": "python",
   "nbconvert_exporter": "python",
   "pygments_lexer": "ipython3",
   "version": "3.8.10"
  }
 },
 "nbformat": 4,
 "nbformat_minor": 4
}
